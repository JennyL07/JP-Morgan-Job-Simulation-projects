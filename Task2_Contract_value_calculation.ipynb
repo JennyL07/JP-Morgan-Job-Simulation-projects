{
 "cells": [
  {
   "cell_type": "markdown",
   "metadata": {},
   "source": [
    "Task 2 - Calculate the net value of the contract for any given date of purchase and sell by using data from Nat_gas.csv."
   ]
  },
  {
   "cell_type": "code",
   "execution_count": 2,
   "metadata": {},
   "outputs": [],
   "source": [
    "import pandas as pd\n",
    "import numpy as np\n",
    "import csv\n",
    "from matplotlib import pyplot as plt\n",
    "from datetime import date, timedelta"
   ]
  },
  {
   "cell_type": "code",
   "execution_count": 4,
   "metadata": {},
   "outputs": [
    {
     "name": "stderr",
     "output_type": "stream",
     "text": [
      "/var/folders/dw/3r081_b1335dzvqm6llcz3540000gn/T/ipykernel_14552/4069250020.py:1: UserWarning: Could not infer format, so each element will be parsed individually, falling back to `dateutil`. To ensure parsing is consistent and as-expected, please specify a format.\n",
      "  df = pd.read_csv('Nat_gas.csv', parse_dates=['Dates'])\n"
     ]
    }
   ],
   "source": [
    "df = pd.read_csv('Nat_gas.csv', parse_dates=['Dates'])\n",
    "prices = df['Prices'].values\n",
    "dates = df['Dates'].values\n",
    "\n",
    "def get_price_on_date(target_date_str):\n",
    "    try:\n",
    "        # Convert the input string to a datetime object\n",
    "        target_date = pd.to_datetime(target_date_str, format='%m/%d/%Y')\n",
    "    except ValueError:\n",
    "        # Handles the case where the date conversion fails\n",
    "        print(\"Invalid date format. Please use 'MM/DD/YYYY'.\")\n",
    "        return None\n",
    "    \n",
    "    # Find the price for the converted date\n",
    "    if target_date in df['Dates'].values:\n",
    "        price = df.loc[df['Dates'] == target_date, 'Prices'].iloc[0]\n",
    "        return price\n",
    "    else:\n",
    "        return None  # Return None if no matching date is found\n"
   ]
  },
  {
   "cell_type": "code",
   "execution_count": 5,
   "metadata": {},
   "outputs": [],
   "source": [
    "# function for estimating value of a contract\n",
    "def calculate_gas_contract_value(volume_mmbtu, purchase_price, sell_price, storage_fee_per_month, \n",
    "                                 months_stored, injection_withdrawal_cost, transportation_cost):\n",
    "    # Purchase cost\n",
    "    total_purchase_cost = volume_mmbtu * purchase_price\n",
    "    \n",
    "    # Revenue from selling the gas\n",
    "    total_revenue = volume_mmbtu * sell_price\n",
    "\n",
    "    # Storage cost\n",
    "    total_storage_cost = storage_fee_per_month * months_stored\n",
    "    \n",
    "    # Injection/withdrawal cost\n",
    "    total_injection_withdrawal_cost = injection_withdrawal_cost*volume_mmbtu\n",
    "    \n",
    "    # Transportation cost\n",
    "    total_transportation_cost = transportation_cost  \n",
    "    \n",
    "    # Net contract value\n",
    "    net_contract_value = (total_revenue - total_purchase_cost - total_storage_cost - \n",
    "                          total_injection_withdrawal_cost - total_transportation_cost)\n",
    "    \n",
    "    return net_contract_value"
   ]
  },
  {
   "cell_type": "code",
   "execution_count": 6,
   "metadata": {},
   "outputs": [],
   "source": [
    "# Every considered cost for given situation\n",
    "def calculate_net_contract_value(purchase_date_str, sell_date_str, desired_volume, max_volume):\n",
    "    # Costs in current cases\n",
    "    storage_fee_per_month = 10e4  # [$/month]\n",
    "    injection_withdrawal_cost = 1e4/1e6  # [$/million MMBtu]\n",
    "    transportation_cost = 5e4  # [$/transaction]\n",
    "\n",
    "    volume = min(desired_volume, max_volume)\n",
    "\n",
    "    purchase_price = get_price_on_date(purchase_date_str)\n",
    "    sell_price = get_price_on_date(sell_date_str)\n",
    "\n",
    "    months_stored = (pd.to_datetime(sell_date_str, format='%m/%d/%Y').year - pd.to_datetime(purchase_date_str, format='%m/%d/%Y').year) * 12 + \\\n",
    "                        (pd.to_datetime(sell_date_str, format='%m/%d/%Y').month - pd.to_datetime(purchase_date_str, format='%m/%d/%Y').month)\n",
    "\n",
    "    contract_value = calculate_gas_contract_value(volume, purchase_price, sell_price, storage_fee_per_month, \n",
    "                                                months_stored, injection_withdrawal_cost, transportation_cost)\n",
    "    \n",
    "    return contract_value"
   ]
  },
  {
   "cell_type": "code",
   "execution_count": 7,
   "metadata": {},
   "outputs": [
    {
     "name": "stdout",
     "output_type": "stream",
     "text": [
      "The net value of the contract is: $640000.00\n"
     ]
    }
   ],
   "source": [
    "inject_date_str = '6/30/2023'  # Example date in MM/DD/YYYY format\n",
    "withdraw_date_str = '2/29/2024'\n",
    "volume = 1e6  # in MMBtu\n",
    "max_volume = 2e6 # in MMBtu\n",
    "result = calculate_net_contract_value(inject_date_str, withdraw_date_str, volume, max_volume)\n",
    "print(f\"The net value of the contract is: ${result:.2f}\")\n"
   ]
  }
 ],
 "metadata": {
  "kernelspec": {
   "display_name": "Python 3",
   "language": "python",
   "name": "python3"
  },
  "language_info": {
   "codemirror_mode": {
    "name": "ipython",
    "version": 3
   },
   "file_extension": ".py",
   "mimetype": "text/x-python",
   "name": "python",
   "nbconvert_exporter": "python",
   "pygments_lexer": "ipython3",
   "version": "3.9.6"
  },
  "orig_nbformat": 4
 },
 "nbformat": 4,
 "nbformat_minor": 2
}
