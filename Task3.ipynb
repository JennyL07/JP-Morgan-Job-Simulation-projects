{
 "cells": [
  {
   "cell_type": "code",
   "execution_count": 44,
   "metadata": {},
   "outputs": [],
   "source": [
    "import pandas as pd\n",
    "from sklearn.model_selection import train_test_split\n",
    "from sklearn.preprocessing import StandardScaler\n",
    "from sklearn.linear_model import LogisticRegression\n",
    "from sklearn.ensemble import RandomForestClassifier\n",
    "from sklearn.metrics import roc_auc_score,accuracy_score, confusion_matrix, classification_report, confusion_matrix"
   ]
  },
  {
   "cell_type": "code",
   "execution_count": 30,
   "metadata": {},
   "outputs": [
    {
     "data": {
      "text/html": [
       "<div>\n",
       "<style scoped>\n",
       "    .dataframe tbody tr th:only-of-type {\n",
       "        vertical-align: middle;\n",
       "    }\n",
       "\n",
       "    .dataframe tbody tr th {\n",
       "        vertical-align: top;\n",
       "    }\n",
       "\n",
       "    .dataframe thead th {\n",
       "        text-align: right;\n",
       "    }\n",
       "</style>\n",
       "<table border=\"1\" class=\"dataframe\">\n",
       "  <thead>\n",
       "    <tr style=\"text-align: right;\">\n",
       "      <th></th>\n",
       "      <th>customer_id</th>\n",
       "      <th>credit_lines_outstanding</th>\n",
       "      <th>loan_amt_outstanding</th>\n",
       "      <th>total_debt_outstanding</th>\n",
       "      <th>income</th>\n",
       "      <th>years_employed</th>\n",
       "      <th>fico_score</th>\n",
       "      <th>default</th>\n",
       "    </tr>\n",
       "  </thead>\n",
       "  <tbody>\n",
       "    <tr>\n",
       "      <th>0</th>\n",
       "      <td>8153374</td>\n",
       "      <td>0</td>\n",
       "      <td>5221.545193</td>\n",
       "      <td>3915.471226</td>\n",
       "      <td>78039.38546</td>\n",
       "      <td>5</td>\n",
       "      <td>605</td>\n",
       "      <td>0</td>\n",
       "    </tr>\n",
       "    <tr>\n",
       "      <th>1</th>\n",
       "      <td>7442532</td>\n",
       "      <td>5</td>\n",
       "      <td>1958.928726</td>\n",
       "      <td>8228.752520</td>\n",
       "      <td>26648.43525</td>\n",
       "      <td>2</td>\n",
       "      <td>572</td>\n",
       "      <td>1</td>\n",
       "    </tr>\n",
       "    <tr>\n",
       "      <th>2</th>\n",
       "      <td>2256073</td>\n",
       "      <td>0</td>\n",
       "      <td>3363.009259</td>\n",
       "      <td>2027.830850</td>\n",
       "      <td>65866.71246</td>\n",
       "      <td>4</td>\n",
       "      <td>602</td>\n",
       "      <td>0</td>\n",
       "    </tr>\n",
       "    <tr>\n",
       "      <th>3</th>\n",
       "      <td>4885975</td>\n",
       "      <td>0</td>\n",
       "      <td>4766.648001</td>\n",
       "      <td>2501.730397</td>\n",
       "      <td>74356.88347</td>\n",
       "      <td>5</td>\n",
       "      <td>612</td>\n",
       "      <td>0</td>\n",
       "    </tr>\n",
       "    <tr>\n",
       "      <th>4</th>\n",
       "      <td>4700614</td>\n",
       "      <td>1</td>\n",
       "      <td>1345.827718</td>\n",
       "      <td>1768.826187</td>\n",
       "      <td>23448.32631</td>\n",
       "      <td>6</td>\n",
       "      <td>631</td>\n",
       "      <td>0</td>\n",
       "    </tr>\n",
       "  </tbody>\n",
       "</table>\n",
       "</div>"
      ],
      "text/plain": [
       "   customer_id  credit_lines_outstanding  loan_amt_outstanding  \\\n",
       "0      8153374                         0           5221.545193   \n",
       "1      7442532                         5           1958.928726   \n",
       "2      2256073                         0           3363.009259   \n",
       "3      4885975                         0           4766.648001   \n",
       "4      4700614                         1           1345.827718   \n",
       "\n",
       "   total_debt_outstanding       income  years_employed  fico_score  default  \n",
       "0             3915.471226  78039.38546               5         605        0  \n",
       "1             8228.752520  26648.43525               2         572        1  \n",
       "2             2027.830850  65866.71246               4         602        0  \n",
       "3             2501.730397  74356.88347               5         612        0  \n",
       "4             1768.826187  23448.32631               6         631        0  "
      ]
     },
     "execution_count": 30,
     "metadata": {},
     "output_type": "execute_result"
    }
   ],
   "source": [
    "# Load data\n",
    "data = pd.read_csv('loan_data.csv')\n",
    "data.head()"
   ]
  },
  {
   "cell_type": "markdown",
   "metadata": {},
   "source": [
    "Use LogisticRegression model."
   ]
  },
  {
   "cell_type": "code",
   "execution_count": 32,
   "metadata": {},
   "outputs": [],
   "source": [
    "# Scaling numerical features\n",
    "scaler = StandardScaler()\n",
    "features = ['credit_lines_outstanding', 'loan_amt_outstanding', 'total_debt_outstanding', 'income', 'years_employed', 'fico_score']\n",
    "\n",
    "scaled_data = data.copy()\n",
    "scaled_data[features] = scaler.fit_transform(scaled_data[features])\n",
    "\n",
    "# Split the scaled data\n",
    "X_scaled = scaled_data[features]\n",
    "y_scaled = scaled_data['default']\n",
    "X_train_scaled, X_test_scaled, y_train_scaled, y_test_scaled = train_test_split(X_scaled, y_scaled, test_size=0.2, random_state=42)"
   ]
  },
  {
   "cell_type": "code",
   "execution_count": 33,
   "metadata": {},
   "outputs": [
    {
     "name": "stdout",
     "output_type": "stream",
     "text": [
      "AUC-ROC: 0.9999652110990509\n",
      "Classification Report:\n",
      "               precision    recall  f1-score   support\n",
      "\n",
      "           0       1.00      1.00      1.00      1652\n",
      "           1       1.00      0.98      0.99       348\n",
      "\n",
      "    accuracy                           1.00      2000\n",
      "   macro avg       1.00      0.99      0.99      2000\n",
      "weighted avg       1.00      1.00      1.00      2000\n",
      "\n"
     ]
    }
   ],
   "source": [
    "# Model training\n",
    "model1 = LogisticRegression(max_iter=1000)\n",
    "model1.fit(X_train_scaled, y_train_scaled)\n",
    "\n",
    "# Predict probabilities\n",
    "probabilities_lr = model1.predict_proba(X_test_scaled)[:, 1] \n",
    "\n",
    "# Evaluate model\n",
    "print(\"AUC-ROC:\", roc_auc_score(y_test_scaled, probabilities_lr))\n",
    "print(\"Classification Report:\\n\", classification_report(y_test_scaled, model1.predict(X_test_scaled)))\n"
   ]
  },
  {
   "cell_type": "code",
   "execution_count": 43,
   "metadata": {},
   "outputs": [
    {
     "name": "stdout",
     "output_type": "stream",
     "text": [
      "Probability of Default for the sample borrower: 1.7206246330249057e-10\n",
      "Expected Loss for the sample loan: 5.207828914913612e-07\n"
     ]
    },
    {
     "name": "stderr",
     "output_type": "stream",
     "text": [
      "/Users/jingyiliu/Library/Python/3.9/lib/python/site-packages/sklearn/base.py:493: UserWarning: X does not have valid feature names, but LogisticRegression was fitted with feature names\n",
      "  warnings.warn(\n"
     ]
    }
   ],
   "source": [
    "# Function to calculate expected loss\n",
    "def calculate_expected_loss(loan_amount, pd, recovery_rate=0.1):\n",
    "    return loan_amount * pd * (1 - recovery_rate)\n",
    "\n",
    "# Example usage\n",
    "sample_borrower_data = data.iloc[2:3][features]\n",
    "loan_amount = data.iloc[2]['loan_amt_outstanding']\n",
    "sample_borrower_data = scaler.transform(sample_borrower_data)  # Scale features\n",
    "pd_sample = model1.predict_proba(sample_borrower_data)[:, 1][0]  # Probability of default\n",
    "print(\"Probability of Default for the sample borrower:\", pd_sample)\n",
    "\n",
    "expected_loss = calculate_expected_loss(loan_amount, pd_sample)\n",
    "print(\"Expected Loss for the sample loan:\", expected_loss)"
   ]
  },
  {
   "cell_type": "markdown",
   "metadata": {},
   "source": [
    "2.Use RandomForest model."
   ]
  },
  {
   "cell_type": "code",
   "execution_count": 35,
   "metadata": {},
   "outputs": [],
   "source": [
    "# Handling missing values\n",
    "data.fillna(data.median(), inplace=True)\n",
    "\n",
    "# Separate features and target\n",
    "X = data.drop('default', axis=1)\n",
    "y = data['default']\n",
    "\n",
    "# Split data into training and testing sets\n",
    "X_train, X_test, y_train, y_test = train_test_split(X, y, test_size=0.2, random_state=42)"
   ]
  },
  {
   "cell_type": "code",
   "execution_count": 36,
   "metadata": {},
   "outputs": [
    {
     "name": "stdout",
     "output_type": "stream",
     "text": [
      "AUC Score: 0.9996929879491248\n"
     ]
    }
   ],
   "source": [
    "# Initialize and train the model\n",
    "model2 = RandomForestClassifier(random_state=42)\n",
    "model2.fit(X_train, y_train)\n",
    "\n",
    "# Predict probabilities\n",
    "probabilities_rf = model2.predict_proba(X_test)[:, 1]\n",
    "\n",
    "# Evaluate the model\n",
    "auc_score = roc_auc_score(y_test, probabilities_rf)\n",
    "print(f'AUC Score: {auc_score}')"
   ]
  },
  {
   "cell_type": "code",
   "execution_count": 40,
   "metadata": {},
   "outputs": [
    {
     "name": "stdout",
     "output_type": "stream",
     "text": [
      "Expected Loss: 1491.43651929\n"
     ]
    },
    {
     "name": "stderr",
     "output_type": "stream",
     "text": [
      "/Users/jingyiliu/Library/Python/3.9/lib/python/site-packages/sklearn/base.py:493: UserWarning: X does not have valid feature names, but RandomForestClassifier was fitted with feature names\n",
      "  warnings.warn(\n"
     ]
    }
   ],
   "source": [
    "def calculate_expected_loss(features, model, recovery_rate=0.1):\n",
    "    probability_of_default = model.predict_proba([features])[0, 1]\n",
    "    loan_amount = features['loan_amt_outstanding']\n",
    "    expected_loss = loan_amount * (1 - recovery_rate) * probability_of_default\n",
    "    return expected_loss\n",
    "\n",
    "# Example use. Here, the borrower data is randomly picked from data\n",
    "new_borrower_features = X_test.iloc[10]\n",
    "expected_loss = calculate_expected_loss(new_borrower_features, model2)\n",
    "print(f'Expected Loss: {expected_loss}')"
   ]
  },
  {
   "cell_type": "code",
   "execution_count": 41,
   "metadata": {},
   "outputs": [
    {
     "name": "stdout",
     "output_type": "stream",
     "text": [
      "customer_id                 5.502768e+06\n",
      "credit_lines_outstanding    5.000000e+00\n",
      "loan_amt_outstanding        1.744370e+03\n",
      "total_debt_outstanding      1.060709e+04\n",
      "income                      4.348487e+04\n",
      "years_employed              5.000000e+00\n",
      "fico_score                  6.260000e+02\n",
      "Name: 2750, dtype: float64\n"
     ]
    }
   ],
   "source": [
    "print(new_borrower_features)"
   ]
  },
  {
   "cell_type": "code",
   "execution_count": 45,
   "metadata": {},
   "outputs": [
    {
     "name": "stdout",
     "output_type": "stream",
     "text": [
      "Logistic Regression Metrics:\n",
      "Accuracy: 0.996\n",
      "AUC-ROC: 0.9999652110990509\n",
      "Classification Report:\n",
      "               precision    recall  f1-score   support\n",
      "\n",
      "           0       1.00      1.00      1.00      1652\n",
      "           1       1.00      0.98      0.99       348\n",
      "\n",
      "    accuracy                           1.00      2000\n",
      "   macro avg       1.00      0.99      0.99      2000\n",
      "weighted avg       1.00      1.00      1.00      2000\n",
      "\n",
      "Confusion Matrix:\n",
      " [[1651    1]\n",
      " [   7  341]]\n",
      "\n",
      "Random Forest Metrics:\n",
      "Accuracy: 0.9955\n",
      "AUC-ROC: 0.9996929879491248\n",
      "Classification Report:\n",
      "               precision    recall  f1-score   support\n",
      "\n",
      "           0       1.00      1.00      1.00      1652\n",
      "           1       0.99      0.98      0.99       348\n",
      "\n",
      "    accuracy                           1.00      2000\n",
      "   macro avg       0.99      0.99      0.99      2000\n",
      "weighted avg       1.00      1.00      1.00      2000\n",
      "\n",
      "Confusion Matrix:\n",
      " [[1650    2]\n",
      " [   7  341]]\n"
     ]
    }
   ],
   "source": [
    "# Logistic Regression Model\n",
    "predictions_lr = model1.predict(X_test_scaled)\n",
    "\n",
    "# RandomForest Model\n",
    "predictions_rf = model2.predict(X_test)\n",
    "\n",
    "# Evaluate models\n",
    "print(\"Logistic Regression Metrics:\")\n",
    "print(\"Accuracy:\", accuracy_score(y_test, predictions_lr))\n",
    "print(\"AUC-ROC:\", roc_auc_score(y_test, probabilities_lr))\n",
    "print(\"Classification Report:\\n\", classification_report(y_test, predictions_lr))\n",
    "print(\"Confusion Matrix:\\n\", confusion_matrix(y_test, predictions_lr))\n",
    "\n",
    "print(\"\\nRandom Forest Metrics:\")\n",
    "print(\"Accuracy:\", accuracy_score(y_test, predictions_rf))\n",
    "print(\"AUC-ROC:\", roc_auc_score(y_test, probabilities_rf))\n",
    "print(\"Classification Report:\\n\", classification_report(y_test, predictions_rf))\n",
    "print(\"Confusion Matrix:\\n\", confusion_matrix(y_test, predictions_rf))\n"
   ]
  },
  {
   "cell_type": "markdown",
   "metadata": {},
   "source": [
    "Overall Performance: Both models are performing well. Given the high AUC-ROC scores, both models are excellent at classifying and separating the non-defaults from defaults.\n",
    "\n",
    "Error Types: Both models have very few errors, but Logistic Regression has one fewer false positive and the same number of false negatives as Random Forest. This might make Logistic Regression slightly more appealing if minimizing false positives is critical."
   ]
  }
 ],
 "metadata": {
  "kernelspec": {
   "display_name": "Python 3",
   "language": "python",
   "name": "python3"
  },
  "language_info": {
   "codemirror_mode": {
    "name": "ipython",
    "version": 3
   },
   "file_extension": ".py",
   "mimetype": "text/x-python",
   "name": "python",
   "nbconvert_exporter": "python",
   "pygments_lexer": "ipython3",
   "version": "3.9.6"
  },
  "orig_nbformat": 4
 },
 "nbformat": 4,
 "nbformat_minor": 2
}
