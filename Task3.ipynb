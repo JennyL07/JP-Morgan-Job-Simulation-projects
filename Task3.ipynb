{
 "cells": [
  {
   "cell_type": "code",
   "execution_count": 1,
   "metadata": {},
   "outputs": [],
   "source": [
    "import pandas as pd\n",
    "from sklearn.model_selection import train_test_split\n",
    "from sklearn.preprocessing import StandardScaler\n",
    "from sklearn.linear_model import LogisticRegression\n",
    "from sklearn.ensemble import RandomForestClassifier\n",
    "from sklearn.metrics import roc_auc_score,accuracy_score, confusion_matrix, classification_report, confusion_matrix"
   ]
  },
  {
   "cell_type": "code",
   "execution_count": 13,
   "metadata": {},
   "outputs": [
    {
     "data": {
      "text/html": [
       "<div>\n",
       "<style scoped>\n",
       "    .dataframe tbody tr th:only-of-type {\n",
       "        vertical-align: middle;\n",
       "    }\n",
       "\n",
       "    .dataframe tbody tr th {\n",
       "        vertical-align: top;\n",
       "    }\n",
       "\n",
       "    .dataframe thead th {\n",
       "        text-align: right;\n",
       "    }\n",
       "</style>\n",
       "<table border=\"1\" class=\"dataframe\">\n",
       "  <thead>\n",
       "    <tr style=\"text-align: right;\">\n",
       "      <th></th>\n",
       "      <th>customer_id</th>\n",
       "      <th>credit_lines_outstanding</th>\n",
       "      <th>loan_amt_outstanding</th>\n",
       "      <th>total_debt_outstanding</th>\n",
       "      <th>income</th>\n",
       "      <th>years_employed</th>\n",
       "      <th>fico_score</th>\n",
       "      <th>default</th>\n",
       "    </tr>\n",
       "  </thead>\n",
       "  <tbody>\n",
       "    <tr>\n",
       "      <th>0</th>\n",
       "      <td>8153374</td>\n",
       "      <td>0</td>\n",
       "      <td>5221.545193</td>\n",
       "      <td>3915.471226</td>\n",
       "      <td>78039.38546</td>\n",
       "      <td>5</td>\n",
       "      <td>605</td>\n",
       "      <td>0</td>\n",
       "    </tr>\n",
       "    <tr>\n",
       "      <th>1</th>\n",
       "      <td>7442532</td>\n",
       "      <td>5</td>\n",
       "      <td>1958.928726</td>\n",
       "      <td>8228.752520</td>\n",
       "      <td>26648.43525</td>\n",
       "      <td>2</td>\n",
       "      <td>572</td>\n",
       "      <td>1</td>\n",
       "    </tr>\n",
       "    <tr>\n",
       "      <th>2</th>\n",
       "      <td>2256073</td>\n",
       "      <td>0</td>\n",
       "      <td>3363.009259</td>\n",
       "      <td>2027.830850</td>\n",
       "      <td>65866.71246</td>\n",
       "      <td>4</td>\n",
       "      <td>602</td>\n",
       "      <td>0</td>\n",
       "    </tr>\n",
       "    <tr>\n",
       "      <th>3</th>\n",
       "      <td>4885975</td>\n",
       "      <td>0</td>\n",
       "      <td>4766.648001</td>\n",
       "      <td>2501.730397</td>\n",
       "      <td>74356.88347</td>\n",
       "      <td>5</td>\n",
       "      <td>612</td>\n",
       "      <td>0</td>\n",
       "    </tr>\n",
       "    <tr>\n",
       "      <th>4</th>\n",
       "      <td>4700614</td>\n",
       "      <td>1</td>\n",
       "      <td>1345.827718</td>\n",
       "      <td>1768.826187</td>\n",
       "      <td>23448.32631</td>\n",
       "      <td>6</td>\n",
       "      <td>631</td>\n",
       "      <td>0</td>\n",
       "    </tr>\n",
       "  </tbody>\n",
       "</table>\n",
       "</div>"
      ],
      "text/plain": [
       "   customer_id  credit_lines_outstanding  loan_amt_outstanding  \\\n",
       "0      8153374                         0           5221.545193   \n",
       "1      7442532                         5           1958.928726   \n",
       "2      2256073                         0           3363.009259   \n",
       "3      4885975                         0           4766.648001   \n",
       "4      4700614                         1           1345.827718   \n",
       "\n",
       "   total_debt_outstanding       income  years_employed  fico_score  default  \n",
       "0             3915.471226  78039.38546               5         605        0  \n",
       "1             8228.752520  26648.43525               2         572        1  \n",
       "2             2027.830850  65866.71246               4         602        0  \n",
       "3             2501.730397  74356.88347               5         612        0  \n",
       "4             1768.826187  23448.32631               6         631        0  "
      ]
     },
     "execution_count": 13,
     "metadata": {},
     "output_type": "execute_result"
    }
   ],
   "source": [
    "# Load data\n",
    "data = pd.read_csv('loan_data.csv')\n",
    "data.head()"
   ]
  },
  {
   "cell_type": "markdown",
   "metadata": {},
   "source": [
    "Use LogisticRegression model."
   ]
  },
  {
   "cell_type": "code",
   "execution_count": 14,
   "metadata": {},
   "outputs": [],
   "source": [
    "# Scaling numerical features\n",
    "scaler = StandardScaler()\n",
    "features = ['credit_lines_outstanding', 'loan_amt_outstanding', 'total_debt_outstanding', 'income', 'years_employed', 'fico_score']\n",
    "\n",
    "scaled_data = data.copy()\n",
    "scaled_data[features] = scaler.fit_transform(scaled_data[features])\n",
    "\n",
    "# Split the scaled data\n",
    "X_scaled = scaled_data[features]\n",
    "y_scaled = scaled_data['default']\n",
    "X_train_scaled, X_test_scaled, y_train_scaled, y_test_scaled = train_test_split(X_scaled, y_scaled, test_size=0.2, random_state=42)"
   ]
  },
  {
   "cell_type": "code",
   "execution_count": 15,
   "metadata": {},
   "outputs": [
    {
     "data": {
      "text/html": [
       "<div>\n",
       "<style scoped>\n",
       "    .dataframe tbody tr th:only-of-type {\n",
       "        vertical-align: middle;\n",
       "    }\n",
       "\n",
       "    .dataframe tbody tr th {\n",
       "        vertical-align: top;\n",
       "    }\n",
       "\n",
       "    .dataframe thead th {\n",
       "        text-align: right;\n",
       "    }\n",
       "</style>\n",
       "<table border=\"1\" class=\"dataframe\">\n",
       "  <thead>\n",
       "    <tr style=\"text-align: right;\">\n",
       "      <th></th>\n",
       "      <th>customer_id</th>\n",
       "      <th>credit_lines_outstanding</th>\n",
       "      <th>loan_amt_outstanding</th>\n",
       "      <th>total_debt_outstanding</th>\n",
       "      <th>income</th>\n",
       "      <th>years_employed</th>\n",
       "      <th>fico_score</th>\n",
       "      <th>default</th>\n",
       "    </tr>\n",
       "  </thead>\n",
       "  <tbody>\n",
       "    <tr>\n",
       "      <th>0</th>\n",
       "      <td>8153374</td>\n",
       "      <td>-0.837960</td>\n",
       "      <td>0.747096</td>\n",
       "      <td>-0.724848</td>\n",
       "      <td>0.398555</td>\n",
       "      <td>0.285425</td>\n",
       "      <td>-0.536770</td>\n",
       "      <td>0</td>\n",
       "    </tr>\n",
       "    <tr>\n",
       "      <th>1</th>\n",
       "      <td>7442532</td>\n",
       "      <td>2.029409</td>\n",
       "      <td>-1.548375</td>\n",
       "      <td>-0.073967</td>\n",
       "      <td>-2.161876</td>\n",
       "      <td>-1.629325</td>\n",
       "      <td>-1.080832</td>\n",
       "      <td>1</td>\n",
       "    </tr>\n",
       "    <tr>\n",
       "      <th>2</th>\n",
       "      <td>2256073</td>\n",
       "      <td>-0.837960</td>\n",
       "      <td>-0.560509</td>\n",
       "      <td>-1.009696</td>\n",
       "      <td>-0.207919</td>\n",
       "      <td>-0.352825</td>\n",
       "      <td>-0.586230</td>\n",
       "      <td>0</td>\n",
       "    </tr>\n",
       "    <tr>\n",
       "      <th>3</th>\n",
       "      <td>4885975</td>\n",
       "      <td>-0.837960</td>\n",
       "      <td>0.427045</td>\n",
       "      <td>-0.938184</td>\n",
       "      <td>0.215083</td>\n",
       "      <td>0.285425</td>\n",
       "      <td>-0.421363</td>\n",
       "      <td>0</td>\n",
       "    </tr>\n",
       "    <tr>\n",
       "      <th>4</th>\n",
       "      <td>4700614</td>\n",
       "      <td>-0.264486</td>\n",
       "      <td>-1.979733</td>\n",
       "      <td>-1.048780</td>\n",
       "      <td>-2.321314</td>\n",
       "      <td>0.923675</td>\n",
       "      <td>-0.108115</td>\n",
       "      <td>0</td>\n",
       "    </tr>\n",
       "    <tr>\n",
       "      <th>...</th>\n",
       "      <td>...</td>\n",
       "      <td>...</td>\n",
       "      <td>...</td>\n",
       "      <td>...</td>\n",
       "      <td>...</td>\n",
       "      <td>...</td>\n",
       "      <td>...</td>\n",
       "      <td>...</td>\n",
       "    </tr>\n",
       "    <tr>\n",
       "      <th>9995</th>\n",
       "      <td>3972488</td>\n",
       "      <td>-0.837960</td>\n",
       "      <td>-0.792238</td>\n",
       "      <td>-0.930336</td>\n",
       "      <td>-1.362562</td>\n",
       "      <td>0.285425</td>\n",
       "      <td>0.980009</td>\n",
       "      <td>0</td>\n",
       "    </tr>\n",
       "    <tr>\n",
       "      <th>9996</th>\n",
       "      <td>6184073</td>\n",
       "      <td>-0.264486</td>\n",
       "      <td>-0.009454</td>\n",
       "      <td>-0.492053</td>\n",
       "      <td>0.494719</td>\n",
       "      <td>2.200176</td>\n",
       "      <td>-0.371903</td>\n",
       "      <td>0</td>\n",
       "    </tr>\n",
       "    <tr>\n",
       "      <th>9997</th>\n",
       "      <td>6694516</td>\n",
       "      <td>0.308988</td>\n",
       "      <td>-0.753840</td>\n",
       "      <td>-0.589396</td>\n",
       "      <td>-1.586712</td>\n",
       "      <td>0.285425</td>\n",
       "      <td>-0.685150</td>\n",
       "      <td>0</td>\n",
       "    </tr>\n",
       "    <tr>\n",
       "      <th>9998</th>\n",
       "      <td>3942961</td>\n",
       "      <td>-0.837960</td>\n",
       "      <td>-0.612649</td>\n",
       "      <td>-1.158293</td>\n",
       "      <td>-0.952136</td>\n",
       "      <td>-1.629325</td>\n",
       "      <td>0.155673</td>\n",
       "      <td>0</td>\n",
       "    </tr>\n",
       "    <tr>\n",
       "      <th>9999</th>\n",
       "      <td>5533570</td>\n",
       "      <td>-0.264486</td>\n",
       "      <td>-1.577415</td>\n",
       "      <td>-0.855411</td>\n",
       "      <td>-1.964419</td>\n",
       "      <td>0.923675</td>\n",
       "      <td>1.969212</td>\n",
       "      <td>0</td>\n",
       "    </tr>\n",
       "  </tbody>\n",
       "</table>\n",
       "<p>10000 rows × 8 columns</p>\n",
       "</div>"
      ],
      "text/plain": [
       "      customer_id  credit_lines_outstanding  loan_amt_outstanding  \\\n",
       "0         8153374                 -0.837960              0.747096   \n",
       "1         7442532                  2.029409             -1.548375   \n",
       "2         2256073                 -0.837960             -0.560509   \n",
       "3         4885975                 -0.837960              0.427045   \n",
       "4         4700614                 -0.264486             -1.979733   \n",
       "...           ...                       ...                   ...   \n",
       "9995      3972488                 -0.837960             -0.792238   \n",
       "9996      6184073                 -0.264486             -0.009454   \n",
       "9997      6694516                  0.308988             -0.753840   \n",
       "9998      3942961                 -0.837960             -0.612649   \n",
       "9999      5533570                 -0.264486             -1.577415   \n",
       "\n",
       "      total_debt_outstanding    income  years_employed  fico_score  default  \n",
       "0                  -0.724848  0.398555        0.285425   -0.536770        0  \n",
       "1                  -0.073967 -2.161876       -1.629325   -1.080832        1  \n",
       "2                  -1.009696 -0.207919       -0.352825   -0.586230        0  \n",
       "3                  -0.938184  0.215083        0.285425   -0.421363        0  \n",
       "4                  -1.048780 -2.321314        0.923675   -0.108115        0  \n",
       "...                      ...       ...             ...         ...      ...  \n",
       "9995               -0.930336 -1.362562        0.285425    0.980009        0  \n",
       "9996               -0.492053  0.494719        2.200176   -0.371903        0  \n",
       "9997               -0.589396 -1.586712        0.285425   -0.685150        0  \n",
       "9998               -1.158293 -0.952136       -1.629325    0.155673        0  \n",
       "9999               -0.855411 -1.964419        0.923675    1.969212        0  \n",
       "\n",
       "[10000 rows x 8 columns]"
      ]
     },
     "execution_count": 15,
     "metadata": {},
     "output_type": "execute_result"
    }
   ],
   "source": [
    "scaled_data"
   ]
  },
  {
   "cell_type": "code",
   "execution_count": 16,
   "metadata": {},
   "outputs": [
    {
     "name": "stdout",
     "output_type": "stream",
     "text": [
      "AUC-ROC: 0.9999652110990509\n",
      "Classification Report:\n",
      "               precision    recall  f1-score   support\n",
      "\n",
      "           0       1.00      1.00      1.00      1652\n",
      "           1       1.00      0.98      0.99       348\n",
      "\n",
      "    accuracy                           1.00      2000\n",
      "   macro avg       1.00      0.99      0.99      2000\n",
      "weighted avg       1.00      1.00      1.00      2000\n",
      "\n"
     ]
    }
   ],
   "source": [
    "# Model training\n",
    "model1 = LogisticRegression(max_iter=1000)\n",
    "model1.fit(X_train_scaled, y_train_scaled)\n",
    "\n",
    "# Predict probabilities\n",
    "probabilities_lr = model1.predict_proba(X_test_scaled)[:, 1] \n",
    "\n",
    "# Evaluate model\n",
    "print(\"AUC-ROC:\", roc_auc_score(y_test_scaled, probabilities_lr))\n",
    "print(\"Classification Report:\\n\", classification_report(y_test_scaled, model1.predict(X_test_scaled)))\n"
   ]
  },
  {
   "cell_type": "code",
   "execution_count": 28,
   "metadata": {},
   "outputs": [
    {
     "name": "stdout",
     "output_type": "stream",
     "text": [
      "Probability of Default for the sample borrower: 0.9999999574861171\n",
      "Expected Loss for the sample loan: 4808.873689056099\n"
     ]
    },
    {
     "name": "stderr",
     "output_type": "stream",
     "text": [
      "/Users/jingyiliu/Library/Python/3.9/lib/python/site-packages/sklearn/base.py:493: UserWarning: X does not have valid feature names, but LogisticRegression was fitted with feature names\n",
      "  warnings.warn(\n"
     ]
    }
   ],
   "source": [
    "# Function to calculate expected loss\n",
    "def calculate_expected_loss(loan_amount, pd, recovery_rate=0.1):\n",
    "    return loan_amount * pd * (1 - recovery_rate)\n",
    "\n",
    "# Example usage\n",
    "sample_borrower_data = data.iloc[1731:1732][features]\n",
    "loan_amount = data.iloc[1731]['loan_amt_outstanding']\n",
    "sample_borrower_data = scaler.transform(sample_borrower_data)  # Scale features\n",
    "pd_sample = model1.predict_proba(sample_borrower_data)[:, 1][0]  # Probability of default\n",
    "print(\"Probability of Default for the sample borrower:\", pd_sample)\n",
    "\n",
    "expected_loss = calculate_expected_loss(loan_amount, pd_sample)\n",
    "print(\"Expected Loss for the sample loan:\", expected_loss)"
   ]
  },
  {
   "cell_type": "code",
   "execution_count": 27,
   "metadata": {},
   "outputs": [
    {
     "data": {
      "text/plain": [
       "customer_id                 3.816784e+06\n",
       "credit_lines_outstanding    5.000000e+00\n",
       "loan_amt_outstanding        5.343193e+03\n",
       "total_debt_outstanding      3.061460e+04\n",
       "income                      8.630395e+04\n",
       "years_employed              4.000000e+00\n",
       "fico_score                  6.070000e+02\n",
       "default                     1.000000e+00\n",
       "Name: 1731, dtype: float64"
      ]
     },
     "execution_count": 27,
     "metadata": {},
     "output_type": "execute_result"
    }
   ],
   "source": [
    "data.iloc[1731]"
   ]
  },
  {
   "cell_type": "markdown",
   "metadata": {},
   "source": [
    "2.Use RandomForest model."
   ]
  },
  {
   "cell_type": "code",
   "execution_count": 19,
   "metadata": {},
   "outputs": [],
   "source": [
    "# Handling missing values\n",
    "data.fillna(data.median(), inplace=True)\n",
    "\n",
    "# Separate features and target\n",
    "X = data.drop('default', axis=1)\n",
    "y = data['default']\n",
    "\n",
    "# Split data into training and testing sets\n",
    "X_train, X_test, y_train, y_test = train_test_split(X, y, test_size=0.2, random_state=42)"
   ]
  },
  {
   "cell_type": "code",
   "execution_count": 30,
   "metadata": {},
   "outputs": [
    {
     "name": "stdout",
     "output_type": "stream",
     "text": [
      "AUC Score: 0.9996929879491248\n"
     ]
    }
   ],
   "source": [
    "# Initialize and train the model\n",
    "model2 = RandomForestClassifier(random_state=42)\n",
    "model2.fit(X_train, y_train)\n",
    "\n",
    "# Predict probabilities\n",
    "probabilities_rf = model2.predict_proba(X_test)[:, 1]\n",
    "\n",
    "# Evaluate the model\n",
    "auc_score = roc_auc_score(y_test, probabilities_rf)\n",
    "print(f'AUC Score: {auc_score}')"
   ]
  },
  {
   "cell_type": "code",
   "execution_count": 25,
   "metadata": {},
   "outputs": [
    {
     "name": "stdout",
     "output_type": "stream",
     "text": [
      "Expected Loss: 4808.8738935\n"
     ]
    },
    {
     "name": "stderr",
     "output_type": "stream",
     "text": [
      "/Users/jingyiliu/Library/Python/3.9/lib/python/site-packages/sklearn/base.py:493: UserWarning: X does not have valid feature names, but RandomForestClassifier was fitted with feature names\n",
      "  warnings.warn(\n"
     ]
    }
   ],
   "source": [
    "def calculate_expected_loss(features, model, recovery_rate=0.1):\n",
    "    probability_of_default = model.predict_proba([features])[0, 1]\n",
    "    loan_amount = features['loan_amt_outstanding']\n",
    "    expected_loss = loan_amount * (1 - recovery_rate) * probability_of_default\n",
    "    return expected_loss\n",
    "\n",
    "# Example use. Here, the borrower data is randomly picked from data\n",
    "new_borrower_features = X_test.iloc[2]\n",
    "expected_loss = calculate_expected_loss(new_borrower_features, model2)\n",
    "print(f'Expected Loss: {expected_loss}')"
   ]
  },
  {
   "cell_type": "code",
   "execution_count": 24,
   "metadata": {},
   "outputs": [
    {
     "name": "stdout",
     "output_type": "stream",
     "text": [
      "customer_id                 3.816784e+06\n",
      "credit_lines_outstanding    5.000000e+00\n",
      "loan_amt_outstanding        5.343193e+03\n",
      "total_debt_outstanding      3.061460e+04\n",
      "income                      8.630395e+04\n",
      "years_employed              4.000000e+00\n",
      "fico_score                  6.070000e+02\n",
      "Name: 1731, dtype: float64\n"
     ]
    }
   ],
   "source": [
    "print(new_borrower_features)"
   ]
  },
  {
   "cell_type": "code",
   "execution_count": 29,
   "metadata": {},
   "outputs": [
    {
     "name": "stdout",
     "output_type": "stream",
     "text": [
      "Logistic Regression Metrics:\n",
      "Accuracy: 0.996\n",
      "AUC-ROC: 0.9999652110990509\n",
      "Classification Report:\n",
      "               precision    recall  f1-score   support\n",
      "\n",
      "           0       1.00      1.00      1.00      1652\n",
      "           1       1.00      0.98      0.99       348\n",
      "\n",
      "    accuracy                           1.00      2000\n",
      "   macro avg       1.00      0.99      0.99      2000\n",
      "weighted avg       1.00      1.00      1.00      2000\n",
      "\n",
      "Confusion Matrix:\n",
      " [[1651    1]\n",
      " [   7  341]]\n",
      "\n",
      "Random Forest Metrics:\n",
      "Accuracy: 0.9955\n",
      "AUC-ROC: 0.9996929879491248\n",
      "Classification Report:\n",
      "               precision    recall  f1-score   support\n",
      "\n",
      "           0       1.00      1.00      1.00      1652\n",
      "           1       0.99      0.98      0.99       348\n",
      "\n",
      "    accuracy                           1.00      2000\n",
      "   macro avg       0.99      0.99      0.99      2000\n",
      "weighted avg       1.00      1.00      1.00      2000\n",
      "\n",
      "Confusion Matrix:\n",
      " [[1650    2]\n",
      " [   7  341]]\n"
     ]
    }
   ],
   "source": [
    "# Logistic Regression Model\n",
    "predictions_lr = model1.predict(X_test_scaled)\n",
    "\n",
    "# RandomForest Model\n",
    "predictions_rf = model2.predict(X_test)\n",
    "\n",
    "# Evaluate models\n",
    "print(\"Logistic Regression Metrics:\")\n",
    "print(\"Accuracy:\", accuracy_score(y_test, predictions_lr))\n",
    "print(\"AUC-ROC:\", roc_auc_score(y_test, probabilities_lr))\n",
    "print(\"Classification Report:\\n\", classification_report(y_test, predictions_lr))\n",
    "print(\"Confusion Matrix:\\n\", confusion_matrix(y_test, predictions_lr))\n",
    "\n",
    "print(\"\\nRandom Forest Metrics:\")\n",
    "print(\"Accuracy:\", accuracy_score(y_test, predictions_rf))\n",
    "print(\"AUC-ROC:\", roc_auc_score(y_test, probabilities_rf))\n",
    "print(\"Classification Report:\\n\", classification_report(y_test, predictions_rf))\n",
    "print(\"Confusion Matrix:\\n\", confusion_matrix(y_test, predictions_rf))\n"
   ]
  },
  {
   "cell_type": "markdown",
   "metadata": {},
   "source": [
    "Overall Performance: Both models are performing well. Given the high AUC-ROC scores, both models are excellent at classifying and separating the non-defaults from defaults.\n",
    "\n",
    "Error Types: Both models have very few errors, but Logistic Regression has one fewer false positive and the same number of false negatives as Random Forest. This might make Logistic Regression slightly more appealing if minimizing false positives is critical."
   ]
  }
 ],
 "metadata": {
  "kernelspec": {
   "display_name": "Python 3",
   "language": "python",
   "name": "python3"
  },
  "language_info": {
   "codemirror_mode": {
    "name": "ipython",
    "version": 3
   },
   "file_extension": ".py",
   "mimetype": "text/x-python",
   "name": "python",
   "nbconvert_exporter": "python",
   "pygments_lexer": "ipython3",
   "version": "3.9.6"
  },
  "orig_nbformat": 4
 },
 "nbformat": 4,
 "nbformat_minor": 2
}
